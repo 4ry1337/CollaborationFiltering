{
 "cells": [
  {
   "cell_type": "code",
   "execution_count": 1,
   "id": "4b385ab8-4dc3-4888-b491-3114b7a96cde",
   "metadata": {},
   "outputs": [],
   "source": [
    "# !python --version\n",
    "# !pip --version"
   ]
  },
  {
   "cell_type": "code",
   "execution_count": 2,
   "id": "868cc13b-ea53-49e5-8c0d-eec955380f4e",
   "metadata": {},
   "outputs": [],
   "source": [
    "# !pip install wget\n",
    "# !mkdir ./dataset\n",
    "# !mkdir ./model\n",
    "# !wget -nc -P ./dataset https://files.grouplens.org/datasets/movielens/ml-latest-small.zip\n",
    "# !unzip -o ./dataset/ml-latest-small.zip -d ./dataset"
   ]
  },
  {
   "cell_type": "code",
   "execution_count": 3,
   "id": "c714df18-2fd8-40fc-b6ae-7bae0052555b",
   "metadata": {},
   "outputs": [],
   "source": [
    "# !pip install torch torch_geometric numpy matplotlib seaborn pandas\n",
    "# !pip install scikit-learn\n",
    "# !pip install sentence_transformers"
   ]
  },
  {
   "cell_type": "code",
   "execution_count": 4,
   "id": "7a1c6286-5498-4927-8dfd-974f0507ff40",
   "metadata": {},
   "outputs": [],
   "source": [
    "import logging\n",
    "logging.basicConfig(level=logging.INFO, format='%(asctime)s - %(levelname)s - %(message)s')"
   ]
  },
  {
   "cell_type": "code",
   "execution_count": 5,
   "id": "cf515860-7ac8-4b03-bbe0-0aaf42d719af",
   "metadata": {},
   "outputs": [],
   "source": [
    "from torch_geometric.datasets import MovieLens\n",
    "\n",
    "file_path = './dataset/ml-latest-small/'\n",
    "\n",
    "dataset = MovieLens(root=file_path)"
   ]
  },
  {
   "cell_type": "code",
   "execution_count": 6,
   "id": "fb35ad6d-8d83-4d9d-b0b1-27e203b870a5",
   "metadata": {},
   "outputs": [
    {
     "name": "stderr",
     "output_type": "stream",
     "text": [
      "2024-12-08 09:12:11,639 - INFO - Using device: cuda\n"
     ]
    }
   ],
   "source": [
    "import torch\n",
    "device = torch.device(\"cuda\" if torch.cuda.is_available() else \"cpu\")\n",
    "logging.info(f\"Using device: {device}\")"
   ]
  },
  {
   "cell_type": "code",
   "execution_count": 7,
   "id": "13b71c86-edd2-4550-b5ed-02d1e08dfb4e",
   "metadata": {},
   "outputs": [],
   "source": [
    "data = dataset[0].to(device)"
   ]
  },
  {
   "cell_type": "code",
   "execution_count": 8,
   "id": "dc93b439-f4a0-4623-9a45-4088d3ca8367",
   "metadata": {},
   "outputs": [],
   "source": [
    "import torch_geometric.transforms as T\n",
    "\n",
    "data['user'].x = torch.eye(data['user'].num_nodes, device=device)\n",
    "del data['user'].num_nodes\n",
    "data = T.ToUndirected()(data) # Add a reverse ('movie', 'rev_rates', 'user') relation for message passing:\n",
    "del data['movie', 'rev_rates', 'user'].edge_label  # Remove \"reverse\" label."
   ]
  },
  {
   "cell_type": "code",
   "execution_count": 9,
   "id": "d19715e5-b9a0-4746-82f7-c487b098aa87",
   "metadata": {},
   "outputs": [],
   "source": [
    "# Perform a link-level split into training, validation, and test edges:\n",
    "train_data, val_data, test_data = T.RandomLinkSplit(\n",
    "    num_val=0.1,\n",
    "    num_test=0.1,\n",
    "    neg_sampling_ratio=0.0,\n",
    "    edge_types=[('user', 'rates', 'movie')],\n",
    "    rev_edge_types=[('movie', 'rev_rates', 'user')],\n",
    ")(data)"
   ]
  },
  {
   "cell_type": "code",
   "execution_count": 10,
   "id": "ec912b61-78fd-472d-8da0-7bedfe9b0681",
   "metadata": {},
   "outputs": [
    {
     "data": {
      "text/plain": [
       "tensor([26.1011,  7.8665,  2.7079,  1.0709,  1.0000,  2.6867], device='cuda:0')"
      ]
     },
     "execution_count": 10,
     "metadata": {},
     "output_type": "execute_result"
    }
   ],
   "source": [
    "weight = torch.bincount(train_data['user', 'movie'].edge_label)\n",
    "weight = weight.max() / weight\n",
    "\n",
    "weight"
   ]
  },
  {
   "cell_type": "code",
   "execution_count": 11,
   "id": "a82f4216-4c31-424d-b1ad-29394cf90b32",
   "metadata": {},
   "outputs": [
    {
     "data": {
      "text/plain": [
       "HeteroData(\n",
       "  movie={ x=[9742, 404] },\n",
       "  user={ x=[610, 610] },\n",
       "  (user, rates, movie)={\n",
       "    edge_index=[2, 80670],\n",
       "    time=[80670],\n",
       "    edge_label=[80670],\n",
       "    edge_label_index=[2, 80670],\n",
       "  },\n",
       "  (movie, rev_rates, user)={\n",
       "    edge_index=[2, 80670],\n",
       "    time=[80670],\n",
       "  }\n",
       ")"
      ]
     },
     "execution_count": 11,
     "metadata": {},
     "output_type": "execute_result"
    }
   ],
   "source": [
    "train_data"
   ]
  },
  {
   "cell_type": "code",
   "execution_count": 12,
   "id": "7393749a-d9b5-474d-a743-f60858eade32",
   "metadata": {},
   "outputs": [
    {
     "data": {
      "text/plain": [
       "HeteroData(\n",
       "  movie={ x=[9742, 404] },\n",
       "  user={ x=[610, 610] },\n",
       "  (user, rates, movie)={\n",
       "    edge_index=[2, 80670],\n",
       "    time=[80670],\n",
       "    edge_label=[10083],\n",
       "    edge_label_index=[2, 10083],\n",
       "  },\n",
       "  (movie, rev_rates, user)={\n",
       "    edge_index=[2, 80670],\n",
       "    time=[80670],\n",
       "  }\n",
       ")"
      ]
     },
     "execution_count": 12,
     "metadata": {},
     "output_type": "execute_result"
    }
   ],
   "source": [
    "val_data"
   ]
  },
  {
   "cell_type": "code",
   "execution_count": 13,
   "id": "e435583c-7792-4dbf-a5da-c2a12725be42",
   "metadata": {},
   "outputs": [
    {
     "data": {
      "text/plain": [
       "HeteroData(\n",
       "  movie={ x=[9742, 404] },\n",
       "  user={ x=[610, 610] },\n",
       "  (user, rates, movie)={\n",
       "    edge_index=[2, 90753],\n",
       "    time=[90753],\n",
       "    edge_label=[10083],\n",
       "    edge_label_index=[2, 10083],\n",
       "  },\n",
       "  (movie, rev_rates, user)={\n",
       "    edge_index=[2, 90753],\n",
       "    time=[90753],\n",
       "  }\n",
       ")"
      ]
     },
     "execution_count": 13,
     "metadata": {},
     "output_type": "execute_result"
    }
   ],
   "source": [
    "test_data"
   ]
  },
  {
   "cell_type": "code",
   "execution_count": 14,
   "id": "9046f8c6-d5ab-4eed-aff0-36fc278ec088",
   "metadata": {},
   "outputs": [],
   "source": [
    "from torch.nn import Module, Linear\n",
    "from torch_geometric.nn import GCNConv, SAGEConv, to_hetero\n",
    "\n",
    "class GNNEncoder(Module):\n",
    "    def __init__(self, hidden_channels, out_channels):\n",
    "        super().__init__()\n",
    "        self.conv1 = SAGEConv((-1, -1), hidden_channels)\n",
    "        self.conv2 = SAGEConv((-1, -1), out_channels)\n",
    "\n",
    "    def forward(self, x, edge_index):\n",
    "        x = self.conv1(x, edge_index).relu()\n",
    "        x = self.conv2(x, edge_index).relu()\n",
    "        return x\n",
    "\n",
    "\n",
    "class EdgeDecoder(Module):\n",
    "    def __init__(self, hidden_channels):\n",
    "        super().__init__()\n",
    "        self.lin1 = Linear(2 * hidden_channels, hidden_channels)\n",
    "        self.lin2 = Linear(hidden_channels, 1)\n",
    "\n",
    "    def forward(self, z_dict, edge_label_index):\n",
    "        row, col = edge_label_index\n",
    "        z = torch.cat([z_dict['user'][row], z_dict['movie'][col]], dim=-1)\n",
    "\n",
    "        z = self.lin1(z).relu()\n",
    "        z = self.lin2(z)\n",
    "        return z.view(-1)\n",
    "\n",
    "class GCFModel(Module):\n",
    "    def __init__(self, hidden_channels):\n",
    "        super().__init__()\n",
    "        self.encoder = GNNEncoder(hidden_channels, hidden_channels)\n",
    "        self.encoder = to_hetero(self.encoder, data.metadata(), aggr='sum')\n",
    "        self.decoder = EdgeDecoder(hidden_channels)\n",
    "\n",
    "    def forward(self, x, edge_index, edge_label_index):\n",
    "        out = self.encoder(x, edge_index)\n",
    "        return self.decoder(out, edge_label_index)"
   ]
  },
  {
   "cell_type": "code",
   "execution_count": 15,
   "id": "4be71cdb-91c0-459f-940f-99004990ac5d",
   "metadata": {},
   "outputs": [],
   "source": [
    "from torch.optim import Adam\n",
    "import torch.nn.functional as F\n",
    "\n",
    "model = GCFModel(hidden_channels=32).to(device)\n",
    "optimizer = Adam(model.parameters(), lr=0.01)\n",
    "\n",
    "def weighted_mse_loss(pred, target, weight=None):\n",
    "    weight = 1. if weight is None else weight[target].to(pred.dtype)\n",
    "    return (weight * (pred - target.to(pred.dtype)).pow(2)).mean()\n",
    "\n",
    "def train(model):\n",
    "    model.train()\n",
    "    optimizer.zero_grad()\n",
    "    pred = model(train_data.x_dict, train_data.edge_index_dict,\n",
    "                 train_data['user', 'movie'].edge_label_index)\n",
    "    target = train_data['user', 'movie'].edge_label\n",
    "    loss = weighted_mse_loss(pred, target, weight)\n",
    "    loss.backward()\n",
    "    optimizer.step()\n",
    "    return float(loss)\n",
    "\n",
    "@torch.no_grad()\n",
    "def test(model, data):\n",
    "    model.eval()\n",
    "    pred = model(data.x_dict, data.edge_index_dict,\n",
    "                 data['user', 'movie'].edge_label_index)\n",
    "    pred = pred.clamp(min=0, max=5)\n",
    "    target = data['user', 'movie'].edge_label.float()\n",
    "    rmse = F.mse_loss(pred, target).sqrt()\n",
    "    return float(rmse)"
   ]
  },
  {
   "cell_type": "code",
   "execution_count": 16,
   "id": "da41baa0-f622-48b0-8c01-c84b1ab1dedf",
   "metadata": {},
   "outputs": [
    {
     "name": "stderr",
     "output_type": "stream",
     "text": [
      "2024-12-08 09:12:12,800 - INFO - Total parameter combinations: 8\n",
      "2024-12-08 09:12:12,800 - INFO - Testing params: {'batch_size': 64, 'hidden_channels': 16, 'learning_rate': 0.01}\n",
      "2024-12-08 09:12:16,402 - INFO - Testing params: {'batch_size': 64, 'hidden_channels': 16, 'learning_rate': 0.001}\n",
      "2024-12-08 09:12:19,823 - INFO - Testing params: {'batch_size': 64, 'hidden_channels': 32, 'learning_rate': 0.01}\n",
      "2024-12-08 09:12:23,509 - INFO - Testing params: {'batch_size': 64, 'hidden_channels': 32, 'learning_rate': 0.001}\n",
      "2024-12-08 09:12:27,199 - INFO - Testing params: {'batch_size': 128, 'hidden_channels': 16, 'learning_rate': 0.01}\n",
      "2024-12-08 09:12:30,621 - INFO - Testing params: {'batch_size': 128, 'hidden_channels': 16, 'learning_rate': 0.001}\n",
      "2024-12-08 09:12:34,062 - INFO - Testing params: {'batch_size': 128, 'hidden_channels': 32, 'learning_rate': 0.01}\n",
      "2024-12-08 09:12:37,760 - INFO - Testing params: {'batch_size': 128, 'hidden_channels': 32, 'learning_rate': 0.001}\n",
      "2024-12-08 09:12:41,476 - INFO - Best Params: {'batch_size': 64, 'hidden_channels': 16, 'learning_rate': 0.01}\n"
     ]
    }
   ],
   "source": [
    "from sklearn.model_selection import ParameterGrid\n",
    "\n",
    "param_grid = {\n",
    "    'hidden_channels': [16, 32],\n",
    "    'learning_rate': [0.01, 0.001],\n",
    "    'batch_size': [64, 128]\n",
    "}\n",
    "grid = ParameterGrid(param_grid)\n",
    "\n",
    "\n",
    "logging.info(f\"Total parameter combinations: {len(grid)}\")\n",
    "\n",
    "best_val_rmse = float('inf')\n",
    "best_params = None\n",
    "best_model = None\n",
    "results = []\n",
    "\n",
    "for params in grid:\n",
    "    logging.info(f\"Testing params: {params}\")\n",
    "    hidden_channels = params['hidden_channels']\n",
    "    lr = params['learning_rate']\n",
    "    batch_size = params['batch_size']\n",
    "\n",
    "    model = GCFModel(hidden_channels=hidden_channels).to(device)\n",
    "    optimizer = Adam(model.parameters(), lr=lr)\n",
    "\n",
    "    train_losses = []\n",
    "    val_losses = []\n",
    "\n",
    "    for epoch in range(1, 151):\n",
    "        loss = train(model)\n",
    "        train_rmse = test(model, train_data)\n",
    "        val_rmse = test(model, val_data)\n",
    "        # test_rmse = test(test_data)\n",
    "        \n",
    "        train_losses.append(train_rmse)\n",
    "        val_losses.append(val_rmse)\n",
    "\n",
    "        # if epoch % 10 == 0:\n",
    "        #     logging.info(f'Epoch: {epoch:03d}, Loss: {loss:.4f}, Train: {train_rmse:.4f}, Val: {val_rmse:.4f}')\n",
    "        \n",
    "        if val_rmse < best_val_rmse:\n",
    "            best_val_rmse = val_rmse\n",
    "            best_params = params\n",
    "            best_model = model\n",
    "\n",
    "logging.info(f\"Best Params: {best_params}\")"
   ]
  },
  {
   "cell_type": "code",
   "execution_count": 20,
   "id": "a6b078ab-309e-4ebe-92dc-0bbc28075199",
   "metadata": {},
   "outputs": [
    {
     "data": {
      "image/png": "[encoded data removed]",
      "text/plain": [
       "<Figure size 1000x600 with 1 Axes>"
      ]
     },
     "metadata": {},
     "output_type": "display_data"
    }
   ],
   "source": [
    "import matplotlib.pyplot as plt \n",
    "plt.rcParams.update({'font.size': 22})\n",
    "\n",
    "plt.figure(figsize=(10, 6))\n",
    "plt.plot(range(len(train_losses)), train_losses, label=\"Train RMSE\")\n",
    "plt.plot(range(len(val_losses)), val_losses, label=\"Validation RMSE\")\n",
    "plt.xlabel(\"Epoch\")\n",
    "plt.ylabel(\"RMSE\")\n",
    "plt.title(\"GNN Loss Curves (Best Model)\")\n",
    "plt.legend()\n",
    "plt.savefig(\"GNN Loss Curves\")\n",
    "plt.show()"
   ]
  },
  {
   "cell_type": "code",
   "execution_count": 21,
   "id": "3b734f8b-f63f-43dc-922c-90e49c16eab4",
   "metadata": {},
   "outputs": [
    {
     "name": "stderr",
     "output_type": "stream",
     "text": [
      "2024-12-08 09:13:44,039 - INFO - Metrics: Rmse=1.1707, Hit Ratio=0.4719, Precision=0.7283, Recall=0.4719, F1=0.5727\n"
     ]
    }
   ],
   "source": [
    "from sklearn.metrics import precision_score, recall_score, f1_score\n",
    "\n",
    "# Evaluate Test Metrics\n",
    "pred = best_model(test_data.x_dict, test_data.edge_index_dict, test_data['user', 'movie'].edge_label_index)\n",
    "pred = pred.clamp(min=0, max=5)\n",
    "target = test_data['user', 'movie'].edge_label.float()\n",
    "rmse = float(F.mse_loss(pred, target).sqrt())\n",
    "\n",
    "pred_labels = (pred >= 3.5).long()\n",
    "target_labels = (target >= 3.5).long()\n",
    "\n",
    "precision = precision_score(target_labels.cpu(), pred_labels.cpu(), zero_division=0)\n",
    "recall = recall_score(target_labels.cpu(), pred_labels.cpu(), zero_division=0)\n",
    "f1 = f1_score(target_labels.cpu(), pred_labels.cpu(), zero_division=0)\n",
    "hit_ratio = (pred_labels & target_labels).sum().item() / target_labels.sum().item()\n",
    "\n",
    "logging.info(f\"Metrics: Rmse={rmse:.4f}, Hit Ratio={hit_ratio:.4f}, Precision={precision:.4f}, Recall={recall:.4f}, F1={f1:.4f}\")"
   ]
  }
 ],
 "metadata": {
  "kernelspec": {
   "display_name": "Rec",
   "language": "python",
   "name": "rec"
  },
  "language_info": {
   "codemirror_mode": {
    "name": "ipython",
    "version": 3
   },
   "file_extension": ".py",
   "mimetype": "text/x-python",
   "name": "python",
   "nbconvert_exporter": "python",
   "pygments_lexer": "ipython3",
   "version": "3.12.7"
  }
 },
 "nbformat": 4,
 "nbformat_minor": 5
}
