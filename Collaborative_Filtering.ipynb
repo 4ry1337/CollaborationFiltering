{
  "nbformat": 4,
  "nbformat_minor": 0,
  "metadata": {
    "colab": {
      "provenance": [],
      "authorship_tag": "ABX9TyOxstNOpGVTgcigNqRj0ecb",
      "include_colab_link": true
    },
    "kernelspec": {
      "name": "python3",
      "display_name": "Python 3"
    },
    "language_info": {
      "name": "python"
    }
  },
  "cells": [
    {
      "cell_type": "markdown",
      "metadata": {
        "id": "view-in-github",
        "colab_type": "text"
      },
      "source": [
        "<a href=\"https://colab.research.google.com/github/4ry1337/CollaborationFiltering/blob/arizona/Collaborative_Filtering.ipynb\" target=\"_parent\"><img src=\"https://colab.research.google.com/assets/colab-badge.svg\" alt=\"Open In Colab\"/></a>"
      ]
    },
    {
      "cell_type": "markdown",
      "source": [],
      "metadata": {
        "id": "9JoaEguS-Rup"
      }
    },
    {
      "cell_type": "markdown",
      "source": [
        "Problem Overview\n",
        "The goal is to build a recommendation system that predicts the likelihood of a user liking a specific movie, based on their past ratings. The system uses the Movielens dataset (small version), which contains:\n",
        "\n",
        "Ratings.csv: User ratings for movies.\n",
        "Movies.csv: Details of the movies."
      ],
      "metadata": {
        "id": "Sc-PObMZ-SaT"
      }
    },
    {
      "cell_type": "code",
      "execution_count": null,
      "metadata": {
        "id": "RjmUzkHu6F8o"
      },
      "outputs": [],
      "source": [
        "import pandas as pd\n",
        "from pathlib import Path\n",
        "import matplotlib.pyplot as plt\n",
        "import numpy as np\n",
        "from zipfile import ZipFile\n",
        "\n",
        "import keras\n",
        "from keras import layers\n",
        "from keras import ops"
      ]
    },
    {
      "cell_type": "markdown",
      "source": [
        "# Load the data and apply preprocessing"
      ],
      "metadata": {
        "id": "bbwtYN6L6ZY6"
      }
    },
    {
      "cell_type": "markdown",
      "source": [],
      "metadata": {
        "id": "ItdF1BYn-YKn"
      }
    },
    {
      "cell_type": "markdown",
      "source": [
        "Downloading the Data: The dataset is fetched from the MovieLens website, which provides user-movie ratings.\n",
        "\n",
        "Unzipping the Data: The dataset is extracted if it hasn’t been already.\n",
        "\n",
        "Encoding Users and Movies:\n",
        "Users and movies are mapped to unique integer indices for embedding purposes\n",
        "\n",
        "Mappings (user2user_encoded, movie2movie_encoded) allow conversion between original IDs and encoded values.\n",
        "\n",
        "Dataset Statistics:\n",
        "Number of users, movies, and the range of ratings are calculated\n",
        "\n",
        "Normalization:\n",
        "Ratings are normalized between 0 and 1."
      ],
      "metadata": {
        "id": "v9BTA_qb-ZPa"
      }
    },
    {
      "cell_type": "code",
      "source": [
        "# Download the actual data from http://files.grouplens.org/datasets/movielens/ml-latest-small.zip\"\n",
        "# Use the ratings.csv file\n",
        "movielens_data_file_url = (\n",
        "    \"http://files.grouplens.org/datasets/movielens/ml-latest-small.zip\"\n",
        ")\n",
        "movielens_zipped_file = keras.utils.get_file(\n",
        "    \"ml-latest-small.zip\", movielens_data_file_url, extract=False\n",
        ")\n",
        "keras_datasets_path = Path(movielens_zipped_file).parents[0]\n",
        "movielens_dir = keras_datasets_path / \"ml-latest-small\"\n",
        "\n",
        "# Only extract the data the first time the script is run.\n",
        "if not movielens_dir.exists():\n",
        "    with ZipFile(movielens_zipped_file, \"r\") as zip:\n",
        "        # Extract files\n",
        "        print(\"Extracting all the files now...\")\n",
        "        zip.extractall(path=keras_datasets_path)\n",
        "        print(\"Done!\")\n",
        "\n",
        "ratings_file = movielens_dir / \"ratings.csv\"\n",
        "df = pd.read_csv(ratings_file)"
      ],
      "metadata": {
        "colab": {
          "base_uri": "https://localhost:8080/"
        },
        "id": "vRvdYFoD6IAu",
        "outputId": "6a4cde90-1b60-4f14-9a21-3bfcc18492b3"
      },
      "execution_count": null,
      "outputs": [
        {
          "output_type": "stream",
          "name": "stdout",
          "text": [
            "Downloading data from http://files.grouplens.org/datasets/movielens/ml-latest-small.zip\n",
            "\u001b[1m978202/978202\u001b[0m \u001b[32m━━━━━━━━━━━━━━━━━━━━\u001b[0m\u001b[37m\u001b[0m \u001b[1m0s\u001b[0m 0us/step\n",
            "Extracting all the files now...\n",
            "Done!\n"
          ]
        }
      ]
    },
    {
      "cell_type": "code",
      "source": [
        "user_ids = df[\"userId\"].unique().tolist()\n",
        "user2user_encoded = {x: i for i, x in enumerate(user_ids)}\n",
        "userencoded2user = {i: x for i, x in enumerate(user_ids)}\n",
        "movie_ids = df[\"movieId\"].unique().tolist()\n",
        "movie2movie_encoded = {x: i for i, x in enumerate(movie_ids)}\n",
        "movie_encoded2movie = {i: x for i, x in enumerate(movie_ids)}\n",
        "df[\"user\"] = df[\"userId\"].map(user2user_encoded)\n",
        "df[\"movie\"] = df[\"movieId\"].map(movie2movie_encoded)\n",
        "\n",
        "num_users = len(user2user_encoded)\n",
        "num_movies = len(movie_encoded2movie)\n",
        "df[\"rating\"] = df[\"rating\"].values.astype(np.float32)\n",
        "# min and max ratings will be used to normalize the ratings later\n",
        "min_rating = min(df[\"rating\"])\n",
        "max_rating = max(df[\"rating\"])\n",
        "\n",
        "print(\n",
        "    \"Number of users: {}, Number of Movies: {}, Min rating: {}, Max rating: {}\".format(\n",
        "        num_users, num_movies, min_rating, max_rating\n",
        "    )\n",
        ")"
      ],
      "metadata": {
        "colab": {
          "base_uri": "https://localhost:8080/"
        },
        "id": "yO4at_2l6JaG",
        "outputId": "6d497618-8930-49de-8e39-dc16c0b202e7"
      },
      "execution_count": null,
      "outputs": [
        {
          "output_type": "stream",
          "name": "stdout",
          "text": [
            "Number of users: 610, Number of Movies: 9724, Min rating: 0.5, Max rating: 5.0\n"
          ]
        }
      ]
    },
    {
      "cell_type": "markdown",
      "source": [
        "# Prepare training and validation data"
      ],
      "metadata": {
        "id": "oOZxJmFN6e5d"
      }
    },
    {
      "cell_type": "markdown",
      "source": [
        "The dataset is shuffled and split into training (90%) and validation (10%) sets.\n",
        "\n",
        "Input (x) consists of user and movie IDs.\n",
        "\n",
        "Target (y) consists of normalized ratings"
      ],
      "metadata": {
        "id": "x8YbF3NV-tDl"
      }
    },
    {
      "cell_type": "code",
      "source": [
        "df = df.sample(frac=1, random_state=42)\n",
        "x = df[[\"user\", \"movie\"]].values\n",
        "# Normalize the targets between 0 and 1. Makes it easy to train.\n",
        "y = df[\"rating\"].apply(lambda x: (x - min_rating) / (max_rating - min_rating)).values\n",
        "# Assuming training on 90% of the data and validating on 10%.\n",
        "train_indices = int(0.9 * df.shape[0])\n",
        "x_train, x_val, y_train, y_val = (\n",
        "    x[:train_indices],\n",
        "    x[train_indices:],\n",
        "    y[:train_indices],\n",
        "    y[train_indices:],\n",
        ")"
      ],
      "metadata": {
        "id": "3ynO_Tmp6Mqe"
      },
      "execution_count": null,
      "outputs": []
    },
    {
      "cell_type": "markdown",
      "source": [
        "# Model"
      ],
      "metadata": {
        "id": "M9cbm4j36pUT"
      }
    },
    {
      "cell_type": "markdown",
      "source": [
        "We embed both users and movies in to 50-dimensional vectors.\n",
        "\n",
        "The model computes a match score between user and movie embeddings via a dot product, and adds a per-movie and per-user bias. The match score is scaled to the [0, 1] interval via a sigmoid (since our ratings are normalized to this range).\n",
        "\n"
      ],
      "metadata": {
        "id": "iqW8IfM_6j7P"
      }
    },
    {
      "cell_type": "markdown",
      "source": [
        "## Embedding Layers\n",
        "\n",
        "User Embedding: Each user is assigned a vector of size EMBEDDING_SIZE (e.g., 50 dimensions).\n",
        "\n",
        "Movie Embedding: Each movie is similarly mapped to a vector of size EMBEDDING_SIZE.\n",
        "\n",
        "These embeddings allow the model to learn the underlying patterns in user-movie interactions.\n",
        "\n",
        "## Bias Layers\n",
        "\n",
        "Each user and movie have an associated scalar bias, capturing individual tendencies:\n",
        "Users might rate movies higher or lower in general.\n",
        "Some movies may generally receive higher ratings than others.\n",
        "\n",
        "## Dot Product\n",
        "\n",
        "The similarity between user and movie embeddings is calculated via a dot product:\n",
        "\n",
        "score=u⋅v+b u+b m\n",
        "\n",
        "where:\n",
        "\n",
        "u: User embedding vector\n",
        "\n",
        "v: Movie embedding vector.\n",
        "\n",
        "bu, bm: User and movie biases.\n",
        "\n",
        "## Sigmoid Activation\n",
        "\n",
        "The dot product result is passed through a sigmoid function to scale it to [0, 1]:\n",
        "\n",
        "σ(x)= 1/1+e-x\n",
        "\n"
      ],
      "metadata": {
        "id": "GYeKbz5M-8QT"
      }
    },
    {
      "cell_type": "markdown",
      "source": [],
      "metadata": {
        "id": "uL5ZlKKF_Iwn"
      }
    },
    {
      "cell_type": "code",
      "source": [
        "EMBEDDING_SIZE = 50\n",
        "\n",
        "\n",
        "class RecommenderNet(keras.Model):\n",
        "    def __init__(self, num_users, num_movies, embedding_size, **kwargs):\n",
        "        super().__init__(**kwargs)\n",
        "        self.num_users = num_users\n",
        "        self.num_movies = num_movies\n",
        "        self.embedding_size = embedding_size\n",
        "        self.user_embedding = layers.Embedding(\n",
        "            num_users,\n",
        "            embedding_size,\n",
        "            embeddings_initializer=\"he_normal\",\n",
        "            embeddings_regularizer=keras.regularizers.l2(1e-6),\n",
        "        )\n",
        "        self.user_bias = layers.Embedding(num_users, 1)\n",
        "        self.movie_embedding = layers.Embedding(\n",
        "            num_movies,\n",
        "            embedding_size,\n",
        "            embeddings_initializer=\"he_normal\",\n",
        "            embeddings_regularizer=keras.regularizers.l2(1e-6),\n",
        "        )\n",
        "        self.movie_bias = layers.Embedding(num_movies, 1)\n",
        "\n",
        "    def call(self, inputs):\n",
        "        user_vector = self.user_embedding(inputs[:, 0])\n",
        "        user_bias = self.user_bias(inputs[:, 0])\n",
        "        movie_vector = self.movie_embedding(inputs[:, 1])\n",
        "        movie_bias = self.movie_bias(inputs[:, 1])\n",
        "        dot_user_movie = ops.tensordot(user_vector, movie_vector, 2)\n",
        "        # Add all the components (including bias)\n",
        "        x = dot_user_movie + user_bias + movie_bias\n",
        "        # The sigmoid activation forces the rating to between 0 and 1\n",
        "        return ops.nn.sigmoid(x)\n",
        "\n",
        "\n",
        "model = RecommenderNet(num_users, num_movies, EMBEDDING_SIZE)\n",
        "model.compile(\n",
        "    loss=keras.losses.BinaryCrossentropy(),\n",
        "    optimizer=keras.optimizers.Adam(learning_rate=0.001),\n",
        ")"
      ],
      "metadata": {
        "id": "hT6gaDHH6PtX"
      },
      "execution_count": null,
      "outputs": []
    },
    {
      "cell_type": "markdown",
      "source": [
        "Embedding: Creates trainable embeddings for users and movies.\n",
        "\n",
        "Regularization: Helps prevent overfitting by penalizing overly large weights."
      ],
      "metadata": {
        "id": "xf9H8NZNAJ4A"
      }
    },
    {
      "cell_type": "markdown",
      "source": [
        "Forward\n",
        "\n",
        "Input: A pair (user_id, movie_id).\n",
        "\n",
        "Output: Predicted rating in [0, 1]."
      ],
      "metadata": {
        "id": "Jg8DTMY7AN_G"
      }
    },
    {
      "cell_type": "markdown",
      "source": [
        "# Training"
      ],
      "metadata": {
        "id": "dI4IVj_z6r3m"
      }
    },
    {
      "cell_type": "markdown",
      "source": [
        "Loss Function\n",
        "The model minimizes the Binary Crossentropy loss, comparing predicted ratings with true rating\n",
        "\n",
        "This works well as the ratings are normalized to the [0, 1] range.\n",
        "\n",
        "Optimizer\n",
        "The Adam optimizer adjusts weights dynamically during training\n",
        "\n",
        "Learning rate (𝜂) is set to 0.001 for stable convergence."
      ],
      "metadata": {
        "id": "aNr77y4sAXVC"
      }
    },
    {
      "cell_type": "code",
      "source": [
        "history = model.fit(\n",
        "    x=x_train,\n",
        "    y=y_train,\n",
        "    batch_size=64,\n",
        "    epochs=5,\n",
        "    verbose=1,\n",
        "    validation_data=(x_val, y_val),\n",
        ")"
      ],
      "metadata": {
        "colab": {
          "base_uri": "https://localhost:8080/"
        },
        "id": "mzqDP--46Rqg",
        "outputId": "1a689a7d-c4c7-4179-f0b2-d936cc9fa787"
      },
      "execution_count": null,
      "outputs": [
        {
          "output_type": "stream",
          "name": "stdout",
          "text": [
            "Epoch 1/5\n",
            "\u001b[1m1418/1418\u001b[0m \u001b[32m━━━━━━━━━━━━━━━━━━━━\u001b[0m\u001b[37m\u001b[0m \u001b[1m24s\u001b[0m 15ms/step - loss: 0.6572 - val_loss: 0.6200\n",
            "Epoch 2/5\n",
            "\u001b[1m1418/1418\u001b[0m \u001b[32m━━━━━━━━━━━━━━━━━━━━\u001b[0m\u001b[37m\u001b[0m \u001b[1m17s\u001b[0m 12ms/step - loss: 0.6153 - val_loss: 0.6184\n",
            "Epoch 3/5\n",
            "\u001b[1m1418/1418\u001b[0m \u001b[32m━━━━━━━━━━━━━━━━━━━━\u001b[0m\u001b[37m\u001b[0m \u001b[1m14s\u001b[0m 8ms/step - loss: 0.6090 - val_loss: 0.6143\n",
            "Epoch 4/5\n",
            "\u001b[1m1418/1418\u001b[0m \u001b[32m━━━━━━━━━━━━━━━━━━━━\u001b[0m\u001b[37m\u001b[0m \u001b[1m20s\u001b[0m 7ms/step - loss: 0.6091 - val_loss: 0.6154\n",
            "Epoch 5/5\n",
            "\u001b[1m1418/1418\u001b[0m \u001b[32m━━━━━━━━━━━━━━━━━━━━\u001b[0m\u001b[37m\u001b[0m \u001b[1m23s\u001b[0m 9ms/step - loss: 0.6081 - val_loss: 0.6133\n"
          ]
        }
      ]
    },
    {
      "cell_type": "markdown",
      "source": [
        "Batch size: 64 samples are used per step.\n",
        "\n",
        "Epochs: 5 iterations over the entire training dataset.\n",
        "\n",
        "Validation data: Used to monitor model performance on unseen data."
      ],
      "metadata": {
        "id": "HD_D8BWKAkhW"
      }
    },
    {
      "cell_type": "markdown",
      "source": [
        "# Plot training and validation loss"
      ],
      "metadata": {
        "id": "j1FIriTV6w9p"
      }
    },
    {
      "cell_type": "code",
      "source": [
        "plt.plot(history.history[\"loss\"])\n",
        "plt.plot(history.history[\"val_loss\"])\n",
        "plt.title(\"model loss\")\n",
        "plt.ylabel(\"loss\")\n",
        "plt.xlabel(\"epoch\")\n",
        "plt.legend([\"train\", \"test\"], loc=\"upper left\")\n",
        "plt.show()"
      ],
      "metadata": {
        "colab": {
          "base_uri": "https://localhost:8080/",
          "height": 472
        },
        "id": "fH0s-3rI6Tl4",
        "outputId": "fe061d9d-2f66-4e48-a8bc-fec2e1f4ff9c"
      },
      "execution_count": null,
      "outputs": [
        {
          "output_type": "display_data",
          "data": {
            "text/plain": [
              "<Figure size 640x480 with 1 Axes>"
            ],
            "image/png": "[encoded data removed]"
          },
          "metadata": {}
        }
      ]
    },
    {
      "cell_type": "markdown",
      "source": [
        "# Show top 10 movie recommendations to a user"
      ],
      "metadata": {
        "id": "XudlaD_j6zst"
      }
    },
    {
      "cell_type": "markdown",
      "source": [
        "After training, the model generates recommendations by:\n",
        "\n",
        "Encoding user and movie IDs.\n",
        "\n",
        "Predicting ratings for unseen movies.\n",
        "\n",
        "Sorting and selecting the top N movies based on predicted ratings"
      ],
      "metadata": {
        "id": "UOukM9KYApKV"
      }
    },
    {
      "cell_type": "code",
      "source": [
        "movie_df = pd.read_csv(movielens_dir / \"movies.csv\")\n",
        "\n",
        "# Let us get a user and see the top recommendations.\n",
        "user_id = df.userId.sample(1).iloc[0]\n",
        "movies_watched_by_user = df[df.userId == user_id]\n",
        "movies_not_watched = movie_df[\n",
        "    ~movie_df[\"movieId\"].isin(movies_watched_by_user.movieId.values)\n",
        "][\"movieId\"]\n",
        "movies_not_watched = list(\n",
        "    set(movies_not_watched).intersection(set(movie2movie_encoded.keys()))\n",
        ")\n",
        "movies_not_watched = [[movie2movie_encoded.get(x)] for x in movies_not_watched]\n",
        "user_encoder = user2user_encoded.get(user_id)\n",
        "user_movie_array = np.hstack(\n",
        "    ([[user_encoder]] * len(movies_not_watched), movies_not_watched)\n",
        ")\n",
        "ratings = model.predict(user_movie_array).flatten()\n",
        "top_ratings_indices = ratings.argsort()[-10:][::-1]\n",
        "recommended_movie_ids = [\n",
        "    movie_encoded2movie.get(movies_not_watched[x][0]) for x in top_ratings_indices\n",
        "]\n",
        "\n",
        "print(\"Showing recommendations for user: {}\".format(user_id))\n",
        "print(\"====\" * 9)\n",
        "print(\"Movies with high ratings from user\")\n",
        "print(\"----\" * 8)\n",
        "top_movies_user = (\n",
        "    movies_watched_by_user.sort_values(by=\"rating\", ascending=False)\n",
        "    .head(5)\n",
        "    .movieId.values\n",
        ")\n",
        "movie_df_rows = movie_df[movie_df[\"movieId\"].isin(top_movies_user)]\n",
        "for row in movie_df_rows.itertuples():\n",
        "    print(row.title, \":\", row.genres)\n",
        "\n",
        "print(\"----\" * 8)\n",
        "print(\"Top 10 movie recommendations\")\n",
        "print(\"----\" * 8)\n",
        "recommended_movies = movie_df[movie_df[\"movieId\"].isin(recommended_movie_ids)]\n",
        "for row in recommended_movies.itertuples():\n",
        "    print(row.title, \":\", row.genres)"
      ],
      "metadata": {
        "colab": {
          "base_uri": "https://localhost:8080/"
        },
        "id": "lj8VRrC46V5U",
        "outputId": "389b8739-19ad-4a39-c94d-61def527d6c2"
      },
      "execution_count": null,
      "outputs": [
        {
          "output_type": "stream",
          "name": "stdout",
          "text": [
            "\u001b[1m297/297\u001b[0m \u001b[32m━━━━━━━━━━━━━━━━━━━━\u001b[0m\u001b[37m\u001b[0m \u001b[1m1s\u001b[0m 2ms/step\n",
            "Showing recommendations for user: 354\n",
            "====================================\n",
            "Movies with high ratings from user\n",
            "--------------------------------\n",
            "Usual Suspects, The (1995) : Crime|Mystery|Thriller\n",
            "Pulp Fiction (1994) : Comedy|Crime|Drama|Thriller\n",
            "Shawshank Redemption, The (1994) : Crime|Drama\n",
            "Starship Troopers (1997) : Action|Sci-Fi\n",
            "Truman Show, The (1998) : Comedy|Drama|Sci-Fi\n",
            "--------------------------------\n",
            "Top 10 movie recommendations\n",
            "--------------------------------\n",
            "Godfather: Part II, The (1974) : Crime|Drama\n",
            "Glory (1989) : Drama|War\n",
            "Graduate, The (1967) : Comedy|Drama|Romance\n",
            "Touch of Evil (1958) : Crime|Film-Noir|Thriller\n",
            "Chinatown (1974) : Crime|Film-Noir|Mystery|Thriller\n",
            "Cool Hand Luke (1967) : Drama\n",
            "Blue Velvet (1986) : Drama|Mystery|Thriller\n",
            "Jungle Book, The (1967) : Animation|Children|Comedy|Musical\n",
            "Muppet Christmas Carol, The (1992) : Children|Comedy|Musical\n",
            "City of God (Cidade de Deus) (2002) : Action|Adventure|Crime|Drama|Thriller\n"
          ]
        }
      ]
    },
    {
      "cell_type": "markdown",
      "source": [],
      "metadata": {
        "id": "eTrw5Z1T-H2y"
      }
    }
  ]
}