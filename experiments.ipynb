{
 "cells": [
  {
   "cell_type": "code",
   "execution_count": 2,
   "id": "24acde39-8206-46cc-b44c-6a182764bb39",
   "metadata": {},
   "outputs": [],
   "source": [
    "import torch\n",
    "import pandas as pd"
   ]
  },
  {
   "cell_type": "code",
   "execution_count": 3,
   "id": "75c5646f-93d3-47e0-b500-8492ea7834fa",
   "metadata": {},
   "outputs": [
    {
     "name": "stdout",
     "output_type": "stream",
     "text": [
      "Using device: cuda\n"
     ]
    }
   ],
   "source": [
    "device = torch.device('cuda' if torch.cuda.is_available() else 'cpu')\n",
    "print(f'Using device: {device}')"
   ]
  },
  {
   "cell_type": "code",
   "execution_count": 4,
   "id": "7b7fc01d-cd17-456c-8949-a3494dd0e7a9",
   "metadata": {},
   "outputs": [
    {
     "name": "stdout",
     "output_type": "stream",
     "text": [
      "Number of users: 943, Number of movies: 1682\n"
     ]
    }
   ],
   "source": [
    "# Load the ratings data\n",
    "ratings = pd.read_csv('./dataset/ml-100k/u.data', sep='\\t', names=['userId', 'movieId', 'rating', 'timestamp'])\n",
    "ratings = ratings.drop(columns=['timestamp'])\n",
    "\n",
    "# Encode userId and movieId to start from 0 for easier indexing\n",
    "user_map = {u: i for i, u in enumerate(ratings['userId'].unique())}\n",
    "movie_map = {m: i for i, m in enumerate(ratings['movieId'].unique())}\n",
    "\n",
    "ratings['userId'] = ratings['userId'].map(user_map)\n",
    "ratings['movieId'] = ratings['movieId'].map(movie_map)\n",
    "\n",
    "num_users = len(user_map)\n",
    "num_movies = len(movie_map)\n",
    "print(f'Number of users: {num_users}, Number of movies: {num_movies}')"
   ]
  },
  {
   "cell_type": "code",
   "execution_count": 5,
   "id": "df3e1fb3-ee3a-47c3-b2d9-c1ff3f55092c",
   "metadata": {},
   "outputs": [],
   "source": [
    "from torch.utils.data import Dataset, DataLoader\n",
    "\n",
    "class MovieLensDataset(Dataset):\n",
    "    def __init__(self, ratings):\n",
    "        self.user_ids = torch.tensor(ratings['userId'].values, dtype=torch.long)\n",
    "        self.movie_ids = torch.tensor(ratings['movieId'].values, dtype=torch.long)\n",
    "        self.ratings = torch.tensor(ratings['rating'].values, dtype=torch.float32)\n",
    "\n",
    "    def __len__(self):\n",
    "        return len(self.ratings)\n",
    "\n",
    "    def __getitem__(self, idx):\n",
    "        return self.user_ids[idx], self.movie_ids[idx], self.ratings[idx]\n",
    "\n",
    "# Create the dataset and data loader\n",
    "dataset = MovieLensDataset(ratings)\n",
    "train_loader = DataLoader(dataset, batch_size=64, shuffle=True)"
   ]
  },
  {
   "cell_type": "code",
   "execution_count": 6,
   "id": "82873cb8-521f-4de4-b2dc-89e1d1009d2d",
   "metadata": {},
   "outputs": [],
   "source": [
    "import torch.nn as nn\n",
    "\n",
    "class NCF(nn.Module):\n",
    "    def __init__(self, num_users, num_items, embedding_size=50, hidden_units=[64, 32, 16]):\n",
    "        super(NCF, self).__init__()\n",
    "        self.user_embedding = nn.Embedding(num_users, embedding_size)\n",
    "        self.item_embedding = nn.Embedding(num_items, embedding_size)\n",
    "\n",
    "        # MLP layers\n",
    "        layers = []\n",
    "        input_size = embedding_size * 2\n",
    "        for hidden_unit in hidden_units:\n",
    "            layers.append(nn.Linear(input_size, hidden_unit))\n",
    "            layers.append(nn.ReLU())\n",
    "            input_size = hidden_unit\n",
    "        self.mlp = nn.Sequential(*layers)\n",
    "\n",
    "        # Output layer\n",
    "        self.output = nn.Linear(hidden_units[-1], 1)\n",
    "\n",
    "    def forward(self, user, item):\n",
    "        # Embedding lookup\n",
    "        user_embedded = self.user_embedding(user)\n",
    "        item_embedded = self.item_embedding(item)\n",
    "\n",
    "        # Concatenate user and item embeddings\n",
    "        x = torch.cat([user_embedded, item_embedded], dim=-1)\n",
    "\n",
    "        # Pass through MLP\n",
    "        x = self.mlp(x)\n",
    "\n",
    "        # Output layer\n",
    "        x = self.output(x)\n",
    "        return x.squeeze()  # Remove extra dimension"
   ]
  },
  {
   "cell_type": "code",
   "execution_count": 7,
   "id": "f7b45514-0865-4ab5-80d4-b5d3540d78ec",
   "metadata": {},
   "outputs": [
    {
     "name": "stdout",
     "output_type": "stream",
     "text": [
      "Epoch [1/5], Loss: 1.3580\n",
      "Epoch [2/5], Loss: 0.9431\n",
      "Epoch [3/5], Loss: 0.8871\n",
      "Epoch [4/5], Loss: 0.8612\n",
      "Epoch [5/5], Loss: 0.8378\n"
     ]
    }
   ],
   "source": [
    "import torch.optim as optim\n",
    "\n",
    "# Instantiate the model and move it to the GPU if available\n",
    "model = NCF(num_users, num_movies).to(device)\n",
    "\n",
    "# Loss function and optimizer\n",
    "criterion = nn.MSELoss()\n",
    "optimizer = optim.Adam(model.parameters(), lr=0.001)\n",
    "\n",
    "# Training loop\n",
    "num_epochs = 5\n",
    "\n",
    "for epoch in range(num_epochs):\n",
    "    model.train()\n",
    "    running_loss = 0.0\n",
    "    for user, item, rating in train_loader:\n",
    "        user = user.to(device)\n",
    "        item = item.to(device)\n",
    "        rating = rating.to(device)\n",
    "\n",
    "        # Forward pass\n",
    "        optimizer.zero_grad()\n",
    "        outputs = model(user, item)\n",
    "        loss = criterion(outputs, rating)\n",
    "        loss.backward()\n",
    "        optimizer.step()\n",
    "\n",
    "        running_loss += loss.item()\n",
    "\n",
    "    # Print loss for the epoch\n",
    "    print(f'Epoch [{epoch+1}/{num_epochs}], Loss: {running_loss/len(train_loader):.4f}')"
   ]
  },
  {
   "cell_type": "code",
   "execution_count": 8,
   "id": "415d0210-7005-403e-97ac-01b41b814792",
   "metadata": {},
   "outputs": [
    {
     "name": "stdout",
     "output_type": "stream",
     "text": [
      "Predicted rating for user 0 and movie 1: 4.13\n"
     ]
    }
   ],
   "source": [
    "def predict_rating(user_id, movie_id):\n",
    "    model.eval()\n",
    "    with torch.no_grad():\n",
    "        user_tensor = torch.tensor([user_id], dtype=torch.long).to(device)\n",
    "        item_tensor = torch.tensor([movie_id], dtype=torch.long).to(device)\n",
    "        predicted_rating = model(user_tensor, item_tensor)\n",
    "        return predicted_rating.item()\n",
    "\n",
    "# Predict the rating for user 0 and movie 1\n",
    "user_id = 0\n",
    "movie_id = 1\n",
    "predicted_rating = predict_rating(user_id, movie_id)\n",
    "print(f'Predicted rating for user {user_id} and movie {movie_id}: {predicted_rating:.2f}')"
   ]
  },
  {
   "cell_type": "code",
   "execution_count": null,
   "id": "874e7b31-1e92-44ef-8695-30e4c6e061e9",
   "metadata": {},
   "outputs": [],
   "source": []
  }
 ],
 "metadata": {
  "kernelspec": {
   "display_name": "Python 3 (ipykernel)",
   "language": "python",
   "name": "python3"
  },
  "language_info": {
   "codemirror_mode": {
    "name": "ipython",
    "version": 3
   },
   "file_extension": ".py",
   "mimetype": "text/x-python",
   "name": "python",
   "nbconvert_exporter": "python",
   "pygments_lexer": "ipython3",
   "version": "3.12.7"
  }
 },
 "nbformat": 4,
 "nbformat_minor": 5
}
